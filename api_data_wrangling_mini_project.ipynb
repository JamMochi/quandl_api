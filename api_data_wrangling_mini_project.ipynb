{
 "cells": [
  {
   "cell_type": "markdown",
   "metadata": {},
   "source": [
    "This exercise will require you to pull some data from the Qunadl API. Qaundl is currently the most widely used aggregator of financial market data."
   ]
  },
  {
   "cell_type": "markdown",
   "metadata": {},
   "source": [
    "As a first step, you will need to register a free account on the http://www.quandl.com website."
   ]
  },
  {
   "cell_type": "markdown",
   "metadata": {},
   "source": [
    "After you register, you will be provided with a unique API key, that you should store:"
   ]
  },
  {
   "cell_type": "code",
   "execution_count": 11,
   "metadata": {},
   "outputs": [],
   "source": [
    "# Store the API key as a string - according to PEP8, constants are always named in all upper case\n",
    "API_KEY = ''"
   ]
  },
  {
   "cell_type": "markdown",
   "metadata": {},
   "source": [
    "Qaundl has a large number of data sources, but, unfortunately, most of them require a Premium subscription. Still, there are also a good number of free datasets."
   ]
  },
  {
   "cell_type": "markdown",
   "metadata": {},
   "source": [
    "For this mini project, we will focus on equities data from the Frankfurt Stock Exhange (FSE), which is available for free. We'll try and analyze the stock prices of a company called Carl Zeiss Meditec, which manufactures tools for eye examinations, as well as medical lasers for laser eye surgery: https://www.zeiss.com/meditec/int/home.html. The company is listed under the stock ticker AFX_X."
   ]
  },
  {
   "cell_type": "markdown",
   "metadata": {},
   "source": [
    "You can find the detailed Quandl API instructions here: https://docs.quandl.com/docs/time-series"
   ]
  },
  {
   "cell_type": "markdown",
   "metadata": {},
   "source": [
    "While there is a dedicated Python package for connecting to the Quandl API, we would prefer that you use the *requests* package, which can be easily downloaded using *pip* or *conda*. You can find the documentation for the package here: http://docs.python-requests.org/en/master/ "
   ]
  },
  {
   "cell_type": "markdown",
   "metadata": {},
   "source": [
    "Finally, apart from the *requests* package, you are encouraged to not use any third party Python packages, such as *pandas*, and instead focus on what's available in the Python Standard Library (the *collections* module might come in handy: https://pymotw.com/3/collections/ ).\n",
    "Also, since you won't have access to DataFrames, you are encouraged to us Python's native data structures - preferably dictionaries, though some questions can also be answered using lists.\n",
    "You can read more on these data structures here: https://docs.python.org/3/tutorial/datastructures.html"
   ]
  },
  {
   "cell_type": "markdown",
   "metadata": {},
   "source": [
    "Keep in mind that the JSON responses you will be getting from the API map almost one-to-one to Python's dictionaries. Unfortunately, they can be very nested, so make sure you read up on indexing dictionaries in the documentation provided above."
   ]
  },
  {
   "cell_type": "code",
   "execution_count": 23,
   "metadata": {},
   "outputs": [],
   "source": [
    "# First, import the relevant modules\n",
    "import requests\n",
    "import json"
   ]
  },
  {
   "cell_type": "code",
   "execution_count": 69,
   "metadata": {},
   "outputs": [],
   "source": [
    "# Now, call the Quandl API and pull out a small sample of the data (only one day) to get a glimpse\n",
    "# into the JSON structure that will be returned\n",
    "database_code = \"FSE\"\n",
    "dataset_code = \"AFX_X\"\n",
    "return_format = \"json\"\n",
    "\n",
    "response = requests.get(f\"https://www.quandl.com/api/v3/datasets//{database_code}//{dataset_code}//data.{return_format}?start_date=2014-01-01&end_date=2014-01-05&{API_KEY}\" )"
   ]
  },
  {
   "cell_type": "code",
   "execution_count": 54,
   "metadata": {},
   "outputs": [
    {
     "name": "stdout",
     "output_type": "stream",
     "text": [
      "{'dataset_data': {'limit': None, 'transform': None, 'column_index': None, 'column_names': ['Date', 'Open', 'High', 'Low', 'Close', 'Change', 'Traded Volume', 'Turnover', 'Last Price of the Day', 'Daily Traded Units', 'Daily Turnover'], 'start_date': '2014-01-01', 'end_date': '2014-01-05', 'frequency': 'daily', 'data': [['2014-01-03', 24.04, 24.47, 24.03, 24.47, None, 20503.0, 499475.0, None, None, None], ['2014-01-02', 24.24, 24.76, 23.77, 24.18, None, 55735.0, 1355658.0, None, None, None]], 'collapse': None, 'order': None}}\n"
     ]
    }
   ],
   "source": [
    "# Inspect the JSON structure of the object you created, and take note of how nested it is,\n",
    "# as well as the overall structure\n",
    "text = response.text\n",
    "result = json.loads(text)\n",
    "print(result)"
   ]
  },
  {
   "cell_type": "code",
   "execution_count": 55,
   "metadata": {},
   "outputs": [
    {
     "name": "stdout",
     "output_type": "stream",
     "text": [
      "<class 'dict'>\n",
      "dict_keys(['dataset_data'])\n"
     ]
    }
   ],
   "source": [
    "# General exploration on how the Quandl API works with two days of data.\n",
    "print(type(result))\n",
    "print(result.keys())"
   ]
  },
  {
   "cell_type": "code",
   "execution_count": 70,
   "metadata": {},
   "outputs": [
    {
     "name": "stdout",
     "output_type": "stream",
     "text": [
      "['Date', 'Open', 'High', 'Low', 'Close', 'Change', 'Traded Volume', 'Turnover', 'Last Price of the Day', 'Daily Traded Units', 'Daily Turnover']\n"
     ]
    }
   ],
   "source": [
    "# Understand how the move through the json file\n",
    "dataset = result['dataset_data']['data']\n",
    "print(result['dataset_data']['column_names'])"
   ]
  },
  {
   "cell_type": "code",
   "execution_count": 89,
   "metadata": {},
   "outputs": [
    {
     "name": "stdout",
     "output_type": "stream",
     "text": [
      "['2014-01-03', 24.04, 24.47, 24.03, 24.47, None, 20503.0, 499475.0, None, None, None]\n",
      "Date: 2014-01-03: Open: 24.04: High: 24.47 Low: 24.03 Close: 24.47\n",
      "['2014-01-02', 24.24, 24.76, 23.77, 24.18, None, 55735.0, 1355658.0, None, None, None]\n",
      "Date: 2014-01-02: Open: 24.24: High: 24.76 Low: 23.77 Close: 24.18\n"
     ]
    }
   ],
   "source": [
    "# Display general data for 2 days\n",
    "for day in dataset:\n",
    "    print(day)\n",
    "    print(f\"Date: {day[0]}: Open: {day[1]}: High: {day[2]} Low: {day[3]} Close: {day[4]}\")"
   ]
  },
  {
   "cell_type": "code",
   "execution_count": 74,
   "metadata": {},
   "outputs": [
    {
     "name": "stdout",
     "output_type": "stream",
     "text": [
      "Close Connection for Trial\n"
     ]
    }
   ],
   "source": [
    "response.close()\n",
    "print('Close Connection for Trial')"
   ]
  },
  {
   "cell_type": "markdown",
   "metadata": {},
   "source": [
    "These are your tasks for this mini project:\n",
    "\n",
    "1. Collect data from the Franfurt Stock Exchange, for the ticker AFX_X, for the whole year 2017 (keep in mind that the date format is YYYY-MM-DD).\n",
    "2. Convert the returned JSON object into a Python dictionary.\n",
    "3. Calculate what the highest and lowest opening prices were for the stock in this period.\n",
    "4. What was the largest change in any one day (based on High and Low price)?\n",
    "5. What was the largest change between any two days (based on Closing Price)?\n",
    "6. What was the average daily trading volume during this year?\n",
    "7. (Optional) What was the median trading volume during this year. (Note: you may need to implement your own function for calculating the median.)"
   ]
  },
  {
   "cell_type": "code",
   "execution_count": 75,
   "metadata": {},
   "outputs": [],
   "source": [
    "# Create a request for a years worth of data for 2017\n",
    "response = requests.get(f\"https://www.quandl.com/api/v3/datasets//{database_code}//{dataset_code}//data.{return_format}?start_date=2017-01-01&end_date=2017-12-31&{API_KEY}\" )"
   ]
  },
  {
   "cell_type": "code",
   "execution_count": 83,
   "metadata": {},
   "outputs": [
    {
     "name": "stdout",
     "output_type": "stream",
     "text": [
      "255\n"
     ]
    }
   ],
   "source": [
    "dict_result = json.loads(response.text)\n",
    "dataset_2017 = dict_result['dataset_data']['data']\n",
    "print(len(dataset_2017))"
   ]
  },
  {
   "cell_type": "code",
   "execution_count": 90,
   "metadata": {},
   "outputs": [
    {
     "name": "stdout",
     "output_type": "stream",
     "text": [
      "Highest Opening Price:53.11\n",
      "Lowest Opening Price:34.0\n",
      "Greatest Daily Change:2.8100000000000023\n"
     ]
    }
   ],
   "source": [
    "# Get the highest opening price for the year\n",
    "highest = float('-inf')\n",
    "\n",
    "# Get the lowest opening price for the year\n",
    "lowest = float('inf')\n",
    "\n",
    "# Get the largest change in any one day\n",
    "daily_change = float('-inf')\n",
    "\n",
    "for single_day in dataset_2017:\n",
    "    if single_day[1] != None and single_day[1] > highest:\n",
    "        highest = single_day[1]\n",
    "    \n",
    "    if single_day[1] != None and single_day[1] < lowest:\n",
    "        lowest = single_day[1]\n",
    "        \n",
    "        \n",
    "    if (single_day[2] != None and single_day[3] != None) and single_day[2] - single_day[3] > daily_change:\n",
    "        daily_change = single_day[2] - single_day[3]\n",
    "\n",
    "print(f'Highest Opening Price:{highest}')\n",
    "print(f'Lowest Opening Price:{lowest}')\n",
    "print(f'Greatest Daily Change:{daily_change}')"
   ]
  },
  {
   "cell_type": "code",
   "execution_count": 91,
   "metadata": {},
   "outputs": [
    {
     "name": "stdout",
     "output_type": "stream",
     "text": [
      "Greatest Two Day Change on Closing Price 2.559999999999995\n"
     ]
    }
   ],
   "source": [
    "two_day_change = float('-inf')\n",
    "\n",
    "for i in range(1, len(dataset_2017)):\n",
    "    today = dataset_2017[i]\n",
    "    yesterday = dataset_2017[i-1]\n",
    "    \n",
    "    if (today[4] != None and yesterday[4] != None):\n",
    "        if today[4] - yesterday[4] > two_day_change:\n",
    "            two_day_change = today[4] - yesterday[4]\n",
    "\n",
    "print(f'Greatest Two Day Change on Closing Price {two_day_change}')"
   ]
  },
  {
   "cell_type": "code",
   "execution_count": 92,
   "metadata": {},
   "outputs": [
    {
     "name": "stdout",
     "output_type": "stream",
     "text": [
      "Average Trade Volume for the Year of 2017: 89124.33725490196\n"
     ]
    }
   ],
   "source": [
    "average_value = 0 \n",
    "count = 0\n",
    "\n",
    "for day in dataset_2017:\n",
    "    if day[6] != None:\n",
    "        average_value += day[6]\n",
    "        count += 1\n",
    "\n",
    "print(f'Average Trade Volume for the Year of 2017: {average_value / count}')"
   ]
  },
  {
   "cell_type": "code",
   "execution_count": 95,
   "metadata": {},
   "outputs": [
    {
     "data": {
      "text/plain": [
       "255"
      ]
     },
     "execution_count": 95,
     "metadata": {},
     "output_type": "execute_result"
    }
   ],
   "source": [
    "trade_vol = [] \n",
    "\n",
    "for day in dataset_2017:\n",
    "    trade_vol.append(day[6])\n",
    "\n",
    "sorted_trade_vol = sorted(trade_vol)\n",
    "len(sorted_trade_vol)"
   ]
  },
  {
   "cell_type": "code",
   "execution_count": 97,
   "metadata": {},
   "outputs": [
    {
     "name": "stdout",
     "output_type": "stream",
     "text": [
      "Median Trade Volume for the Year of 2017: 76286.0\n"
     ]
    }
   ],
   "source": [
    "def median(lst):\n",
    "    length = len(lst) \n",
    "    if length % 2 == 0:\n",
    "        return (lst[length // 2] + lst[length // 2 - 1]) / 2\n",
    "    else:\n",
    "        return lst[length // 2]    \n",
    "print(f'Median Trade Volume for the Year of 2017: {median(sorted_trade_vol)}')"
   ]
  },
  {
   "cell_type": "code",
   "execution_count": null,
   "metadata": {},
   "outputs": [],
   "source": []
  }
 ],
 "metadata": {
  "kernelspec": {
   "display_name": "Python 3",
   "language": "python",
   "name": "python3"
  },
  "language_info": {
   "codemirror_mode": {
    "name": "ipython",
    "version": 3
   },
   "file_extension": ".py",
   "mimetype": "text/x-python",
   "name": "python",
   "nbconvert_exporter": "python",
   "pygments_lexer": "ipython3",
   "version": "3.7.6"
  }
 },
 "nbformat": 4,
 "nbformat_minor": 2
}
